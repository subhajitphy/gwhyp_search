{
 "cells": [
  {
   "cell_type": "code",
   "execution_count": 1,
   "id": "ad46292a-694b-4330-b805-e56d186fa928",
   "metadata": {},
   "outputs": [
    {
     "name": "stderr",
     "output_type": "stream",
     "text": [
      "WARNING: AstropyDeprecationWarning: The private astropy._erfa module has been made into its own package, pyerfa, which is a dependency of astropy and can be imported directly using \"import erfa\" [astropy._erfa]\n"
     ]
    }
   ],
   "source": [
    "import numpy as np\n",
    "import matplotlib.pyplot as plt\n",
    "\n",
    "from enterprise.signals.signal_base import function as enterprise_function, PTA\n",
    "from enterprise.signals.deterministic_signals import Deterministic\n",
    "from enterprise.signals.parameter import Uniform\n",
    "from enterprise.signals.gp_signals import MarginalizingTimingModel\n",
    "from enterprise.signals.white_signals import MeasurementNoise\n",
    "from enterprise.pulsar import Pulsar\n",
    "import enterprise\n",
    "from PTMCMCSampler.PTMCMCSampler import PTSampler as ptmcmc\n",
    "import nestle"
   ]
  },
  {
   "cell_type": "code",
   "execution_count": 2,
   "id": "3540b79f-81bf-4d3c-9174-5e23484277a0",
   "metadata": {},
   "outputs": [
    {
     "data": {
      "text/plain": [
       "'/home/subhajit/Desktop/hypsearch/run2'"
      ]
     },
     "execution_count": 2,
     "metadata": {},
     "output_type": "execute_result"
    }
   ],
   "source": [
    "pwd"
   ]
  },
  {
   "cell_type": "code",
   "execution_count": 3,
   "id": "01d4f135-038d-4779-bb9d-c22fcf89e291",
   "metadata": {},
   "outputs": [
    {
     "name": "stdout",
     "output_type": "stream",
     "text": [
      "[tempo2Util.C:396] Warning: [TIM1] Please place MODE flags in the parameter file \n",
      "[observatory.C:271] Warning: Assuming site '7' means 'pks'\n"
     ]
    }
   ],
   "source": [
    "#datadir = f\"{enterprise.__path__[0]}/datafiles/mdc_open1\"\n",
    "psrname='J2124-3358'\n",
    "datadir=f\"/home/subhajit/Desktop/hypsearch/run2/NanoGrav_open_mdc\"\n",
    "parfile = f\"{datadir}/\"+psrname+\".par\"\n",
    "timfile = f\"{datadir}/\"+psrname+\".tim\"\n",
    "\n",
    "psr = Pulsar(parfile, timfile)"
   ]
  },
  {
   "cell_type": "code",
   "execution_count": 4,
   "id": "f3e99260-16e4-4969-aa88-9af91f17e938",
   "metadata": {},
   "outputs": [
    {
     "data": {
      "text/plain": [
       "'/home/subhajit/Desktop/hypsearch/run2/NanoGrav_open_mdc'"
      ]
     },
     "execution_count": 4,
     "metadata": {},
     "output_type": "execute_result"
    }
   ],
   "source": [
    "datadir"
   ]
  },
  {
   "cell_type": "code",
   "execution_count": 5,
   "id": "54a41b48-2133-45f7-8bec-3dc31c205227",
   "metadata": {},
   "outputs": [],
   "source": [
    "def hms_to_rad(hh, mm, ss):\n",
    "    sgn = np.sign(hh)\n",
    "    return sgn * (sgn * hh + mm / 60 + ss / 3600) * np.pi / 12\n",
    "\n",
    "\n",
    "def dms_to_rad(dd, mm, ss):\n",
    "    sgn = np.sign(dd)\n",
    "    return sgn * (sgn * dd + mm / 60 + ss / 3600) * np.pi / 180"
   ]
  },
  {
   "cell_type": "code",
   "execution_count": 6,
   "id": "4353cc1f-e53f-4d0a-a344-3f5353ffacd0",
   "metadata": {},
   "outputs": [],
   "source": [
    "from gw_waveform_res import hyp_pta_res"
   ]
  },
  {
   "cell_type": "code",
   "execution_count": 7,
   "id": "737aa78b-e819-4f8b-8849-cefb523a91a6",
   "metadata": {},
   "outputs": [],
   "source": [
    "RA_GW = hms_to_rad(4, 0, 0)\n",
    "DEC_GW = dms_to_rad(-45, 0, 0)\n",
    "tref1 = (max(psr.toas)+min(psr.toas))/2"
   ]
  },
  {
   "cell_type": "code",
   "execution_count": 8,
   "id": "92bfe1ab-febd-4096-936a-fb72098721d7",
   "metadata": {},
   "outputs": [
    {
     "data": {
      "image/png": "[encoded data removed]",
      "text/plain": [
       "<Figure size 640x480 with 1 Axes>"
      ]
     },
     "metadata": {},
     "output_type": "display_data"
    }
   ],
   "source": [
    "inc0=0;M0=2e10;q0=1;b0=70;e0=1.15;z0=0.3;\n",
    "\n",
    "hyp_gw =hyp_pta_res(\n",
    "    cos_gwtheta=np.sin(DEC_GW),\n",
    "    gwphi=RA_GW,\n",
    "    psi=0,\n",
    "    cos_inc=np.cos(inc0),\n",
    "    log10_M=np.log10(M0),\n",
    "    q=q0,\n",
    "    b=b0,\n",
    "    e0=e0,\n",
    "    tref=tref1,\n",
    "    log10_z=np.log10(z0))\n",
    "\n",
    "\n",
    "hyp_gw_fn = hyp_gw(name=\"hyp_gw\", psr=psr)\n",
    "\n",
    "res = hyp_gw_fn()\n",
    "\n",
    "toas = psr.toas / (365.25*24*3600)\n",
    "t0 = np.mean(toas)\n",
    "\n",
    "plt.subplot(2,1,1)\n",
    "plt.scatter(toas-t0, res/1e-9, marker=\"+\")\n",
    "plt.xlabel('Time (years)')\n",
    "plt.ylabel('Residuals (in ns)')\n",
    "plt.show()"
   ]
  },
  {
   "cell_type": "code",
   "execution_count": 9,
   "id": "fe3bc140-42c9-44c9-9120-5e3f6c163880",
   "metadata": {},
   "outputs": [],
   "source": [
    "import json\n",
    "import os\n",
    "\n",
    "import enterprise\n",
    "import libstempo as lst\n",
    "import libstempo.plot as lstplot\n",
    "import libstempo.toasim as toasim\n",
    "import matplotlib.pyplot as plt\n",
    "import numpy as np\n",
    "from gw_waveform_res import hyp_pta_res"
   ]
  },
  {
   "cell_type": "code",
   "execution_count": 10,
   "id": "4f2121bd-d5bd-44b3-80a4-713dae5335f2",
   "metadata": {},
   "outputs": [],
   "source": [
    "output_dir = \"gwhyp_sims_try\"\n",
    "if not os.path.exists(output_dir):\n",
    "    os.mkdir(output_dir)"
   ]
  },
  {
   "cell_type": "code",
   "execution_count": 11,
   "id": "a63a5bca-e597-40a7-b618-fbde55cea0ad",
   "metadata": {},
   "outputs": [
    {
     "name": "stdout",
     "output_type": "stream",
     "text": [
      "[tempo2Util.C:401] Warning: [DUP1] duplicated warnings have been suppressed.\n",
      "J2124-3358\n"
     ]
    },
    {
     "name": "stderr",
     "output_type": "stream",
     "text": [
      "/tmp/ipykernel_3318507/2232959986.py:1: DeprecationWarning: distutils Version classes are deprecated. Use packaging.version instead.\n",
      "  psrl = lst.tempopulsar(parfile=parfile, timfile=timfile)\n"
     ]
    }
   ],
   "source": [
    "psrl = lst.tempopulsar(parfile=parfile, timfile=timfile)\n",
    "print(psrl.name)"
   ]
  },
  {
   "cell_type": "code",
   "execution_count": 12,
   "id": "3008454a-6557-4300-a86b-3ff76c121ffe",
   "metadata": {},
   "outputs": [],
   "source": [
    "def save_psr_sim(psr1, savedir):\n",
    "    print(\"Writing simulated data for\", psr1.name)\n",
    "    psr1.savepar(f\"{savedir}/{psr1.name}_simulate.par\")\n",
    "    psr1.savetim(f\"{savedir}/{psr1.name}_simulate.tim\")\n",
    "    lst.purgetim(f\"{savedir}/{psr1.name}_simulate.tim\")"
   ]
  },
  {
   "cell_type": "code",
   "execution_count": 13,
   "id": "8e142f83-64a8-4be0-91a6-74e5c95a7b3a",
   "metadata": {},
   "outputs": [],
   "source": [
    "day_to_s = 24 * 3600"
   ]
  },
  {
   "cell_type": "code",
   "execution_count": 14,
   "id": "91837664-3c6e-4008-8d17-3174f748d8c1",
   "metadata": {},
   "outputs": [],
   "source": [
    "def add_gwecc_1psr(psr):\n",
    "    toas = (psr.toas() * day_to_s).astype(float)\n",
    "\n",
    "    signal = (\n",
    "        np.array(res\n",
    "            \n",
    "        )/day_to_s\n",
    "        \n",
    "    )\n",
    "\n",
    "    psr.stoas[:] += signal\n",
    "\n",
    "    return signal\n"
   ]
  },
  {
   "cell_type": "code",
   "execution_count": 15,
   "id": "24102cb1-6bc8-46ff-ae3d-1c4677bfe1c2",
   "metadata": {},
   "outputs": [],
   "source": [
    "toasim.make_ideal(psrl)"
   ]
  },
  {
   "cell_type": "code",
   "execution_count": 16,
   "id": "3e166618-a0d7-40cd-aaeb-8e3a615c86cb",
   "metadata": {},
   "outputs": [],
   "source": [
    "toasim.add_efac(psrl, 1)"
   ]
  },
  {
   "cell_type": "code",
   "execution_count": 17,
   "id": "4e74931e-5e07-4e70-be77-35d823666d80",
   "metadata": {},
   "outputs": [],
   "source": [
    "signal = add_gwecc_1psr(psrl)"
   ]
  },
  {
   "cell_type": "code",
   "execution_count": 18,
   "id": "3678f917-b4c1-4581-a436-ee265d670f79",
   "metadata": {},
   "outputs": [
    {
     "name": "stdout",
     "output_type": "stream",
     "text": [
      "Simulated TOAs for J2124-3358\n"
     ]
    }
   ],
   "source": [
    "print(\"Simulated TOAs for\", psrl.name)"
   ]
  },
  {
   "cell_type": "code",
   "execution_count": 19,
   "id": "33f5f733-ef5b-4514-b734-039c8acb5dc3",
   "metadata": {},
   "outputs": [
    {
     "data": {
      "image/png": "[encoded data removed]",
      "text/plain": [
       "<Figure size 640x480 with 1 Axes>"
      ]
     },
     "metadata": {},
     "output_type": "display_data"
    },
    {
     "name": "stdout",
     "output_type": "stream",
     "text": [
      "Writing simulated data for J2124-3358\n",
      "\n",
      "\n",
      "Results for PSR J2124-3358\n",
      "\n",
      "\n",
      "RMS pre-fit residual = 0.000 (us), RMS post-fit residual = 0.126 (us)\n",
      "Fit Chisq = 0\tChisqr/nfree = 0.00/0 = -nan\tpre/post = 0\n",
      "Number of fit parameters: 0\n",
      "Number of points in fit = 0\n",
      "Offset: 0 1 offset_e*sqrt(n) = 0 n = 0\n",
      "\n",
      "\n",
      "PARAMETER       Pre-fit                   Post-fit                  Uncertainty   Difference   Fit\n",
      "---------------------------------------------------------------------------------------------------\n",
      "RAJ (rad)       5.60569601375114          5.60569601380133          6.5471e-11    5.0182e-11    Y\n",
      "RAJ (hms)       21:24:43.8534771           21:24:43.8534771         9.0029e-07    6.9005e-07   \n",
      "DECJ (rad)      -0.593046721375533        -0.59304672152609         1.2314e-10    -1.5056e-10   Y\n",
      "DECJ (dms)      -33:58:44.66708           -33:58:44.66708           2.54e-05      -3.1055e-05  \n",
      "F0 (s^-1)       202.793890735157          202.793890735158          7.4112e-14    4.8317e-13    Y\n",
      "F1 (s^-2)       -8.46459736326206e-16     -8.46455960981489e-16     5.539e-22     3.7753e-21    Y\n",
      "PEPOCH (MJD)    53000                     53000                     0             0             N\n",
      "POSEPOCH (MJD)  53000                     53000                     0             0             N\n",
      "DMEPOCH (MJD)   53000                     53000                     0             0             N\n",
      "PMRA (mas/yr)   -14.1305252435653         -14.1272260834265         0.0023727     0.0032992     Y\n",
      "PMDEC (mas/yr)  -50.2815152656197         -50.2875791682896         0.0054        -0.0060639    Y\n",
      "PX (mas)        3.20661253780976          3.20471566803094          0.017615      -0.0018969    Y\n",
      "TZRMJD          -nan                      50000.7264721104          0             -nan          N\n",
      "TZRFRQ (MHz)    -nan                      1440                      0             -nan          N\n",
      "TZRSITE         7                        \n",
      "TRES            -nan                      0.126402769828533         0             -nan          N\n",
      "EPHVER          TEMPO2                    TEMPO2                    \n",
      "DM_SERIES       TAYLOR                   \n",
      "---------------------------------------------------------------------------------------------------\n",
      "[textOutput.C:307] Notice: Parameter uncertainties NOT multiplied by sqrt(red. chisq)\n",
      "\n",
      "\n",
      "Derived parameters:\n",
      "\n",
      "P0 (s)      = 0.00493111501719728       1.8021e-18   \n",
      "P1          = 2.05823345341455e-20      1.3469e-26   \n",
      "tau_c (Myr) = 3798.5\n",
      "bs (G)      = 3.2238e+08\n",
      "\n",
      "Total proper motion = 52.234 +/- 0.0052382 mas/yr\n",
      "Total time span = 3001.795 days = 8.218 years\n",
      "\n",
      "Tempo2 usage\n",
      "Units:                 TCB (tempo2)\n",
      "Time ephemeris:        IF99 (tempo2)\n",
      "Troposphere corr.?     Yes (tempo2)\n",
      "Dilate freq?           Yes (tempo2)\n",
      "Electron density (1AU) 4\n",
      "Solar system ephem     DE414\n",
      "Time scale             TT(TAI)\n",
      "Binary model           NONE\n",
      "[textOutput.C:1104] Warning: UNITS was not set in the parameter file: using TCB (tempo2)\n",
      "In here writing a new parameter file: gwhyp_sims_try/J2124-3358_simulate.par\n",
      "Notice: There were 4 warnings. Summaries are shown below, check logs for full details.\n",
      "Warning #1: [TIM1] Please place MODE flags in the parameter file \n",
      "Warning #2: Assuming site '7' means 'pks'\n",
      "Warning #3: [DUP1] duplicated warnings have been suppressed.\n",
      "Warning #4: UNITS was not set in the parameter file: using TCB (tempo2)\n"
     ]
    }
   ],
   "source": [
    "lstplot.plotres(psrl, label=\"Residuals\")\n",
    "plt.plot(psrl.toas(), signal * day_to_s * 1e6, c=\"k\", label=\"Injected signal\")\n",
    "plt.title(psrl.name)\n",
    "plt.legend()\n",
    "plt.show()\n",
    "\n",
    "psrl.fit()\n",
    "\n",
    "save_psr_sim(psrl, output_dir)"
   ]
  },
  {
   "cell_type": "code",
   "execution_count": null,
   "id": "226d7830-8eb2-4262-831f-92d07bef340d",
   "metadata": {},
   "outputs": [],
   "source": []
  }
 ],
 "metadata": {
  "kernelspec": {
   "display_name": "pulsar",
   "language": "python",
   "name": "pulsar"
  },
  "language_info": {
   "codemirror_mode": {
    "name": "ipython",
    "version": 3
   },
   "file_extension": ".py",
   "mimetype": "text/x-python",
   "name": "python",
   "nbconvert_exporter": "python",
   "pygments_lexer": "ipython3",
   "version": "3.9.12"
  }
 },
 "nbformat": 4,
 "nbformat_minor": 5
}
