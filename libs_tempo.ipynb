{
 "cells": [
  {
   "cell_type": "code",
   "execution_count": 1,
   "id": "2f2387b5",
   "metadata": {},
   "outputs": [
    {
     "name": "stderr",
     "output_type": "stream",
     "text": [
      "WARNING: AstropyDeprecationWarning: The private astropy._erfa module has been made into its own package, pyerfa, which is a dependency of astropy and can be imported directly using \"import erfa\" [astropy._erfa]\n"
     ]
    }
   ],
   "source": [
    "import numpy as np\n",
    "import matplotlib.pyplot as plt\n",
    "\n",
    "from enterprise.signals.signal_base import function as enterprise_function, PTA\n",
    "from enterprise.signals.deterministic_signals import Deterministic\n",
    "from enterprise.signals.parameter import Uniform\n",
    "from enterprise.signals.gp_signals import MarginalizingTimingModel\n",
    "from enterprise.signals.white_signals import MeasurementNoise\n",
    "from enterprise.pulsar import Pulsar\n",
    "import enterprise\n",
    "from PTMCMCSampler.PTMCMCSampler import PTSampler as ptmcmc\n",
    "import nestle"
   ]
  },
  {
   "cell_type": "code",
   "execution_count": 2,
   "id": "9a105f2d",
   "metadata": {},
   "outputs": [
    {
     "name": "stdout",
     "output_type": "stream",
     "text": [
      "[tempo2Util.C:396] Warning: [TIM1] Please place MODE flags in the parameter file \n"
     ]
    }
   ],
   "source": [
    "datadir = f\"{enterprise.__path__[0]}/datafiles/mdc_open1\"\n",
    "parfile = f\"{datadir}/J0030+0451.par\"\n",
    "timfile = f\"{datadir}/J0030+0451.tim\"\n",
    "\n",
    "psr = Pulsar(parfile, timfile)"
   ]
  },
  {
   "cell_type": "code",
   "execution_count": 3,
   "id": "890a356f",
   "metadata": {},
   "outputs": [],
   "source": [
    "def hms_to_rad(hh, mm, ss):\n",
    "    sgn = np.sign(hh)\n",
    "    return sgn * (sgn * hh + mm / 60 + ss / 3600) * np.pi / 12\n",
    "\n",
    "\n",
    "def dms_to_rad(dd, mm, ss):\n",
    "    sgn = np.sign(dd)\n",
    "    return sgn * (sgn * dd + mm / 60 + ss / 3600) * np.pi / 180"
   ]
  },
  {
   "cell_type": "code",
   "execution_count": 4,
   "id": "32e7c839",
   "metadata": {},
   "outputs": [],
   "source": [
    "tref1 = (max(psr.toas)+min(psr.toas))/2"
   ]
  },
  {
   "cell_type": "code",
   "execution_count": 5,
   "id": "f1d5f746",
   "metadata": {},
   "outputs": [],
   "source": [
    "tref1=0"
   ]
  },
  {
   "cell_type": "code",
   "execution_count": 6,
   "id": "34df3bf8",
   "metadata": {},
   "outputs": [],
   "source": [
    "from gw_waveform_res import hyp_pta_res"
   ]
  },
  {
   "cell_type": "code",
   "execution_count": 7,
   "id": "0dabcd19",
   "metadata": {},
   "outputs": [],
   "source": [
    "RA_GW = hms_to_rad(4, 0, 0)\n",
    "DEC_GW = dms_to_rad(-45, 0, 0)\n"
   ]
  },
  {
   "cell_type": "code",
   "execution_count": 8,
   "id": "758acbef",
   "metadata": {},
   "outputs": [],
   "source": [
    "inc0=0;M0=1e10;q0=1;b0=60;e0=1.15;z0=0.3;\n",
    "\n",
    "hyp_gw =hyp_pta_res(\n",
    "    cos_gwtheta=np.sin(DEC_GW),\n",
    "    gwphi=RA_GW,\n",
    "    psi=0,\n",
    "    cos_inc=np.cos(inc0),\n",
    "    log10_M=np.log10(M0),\n",
    "    q=q0,\n",
    "    b=b0,\n",
    "    e0=e0,\n",
    "    tref=tref1,\n",
    "    log10_z=np.log10(z0))\n",
    "\n",
    "\n",
    "hyp_gw_fn = hyp_gw(name=\"hyp_gw\", psr=psr)\n",
    "\n",
    "res = hyp_gw_fn()"
   ]
  },
  {
   "cell_type": "code",
   "execution_count": 9,
   "id": "aae0af65",
   "metadata": {},
   "outputs": [],
   "source": [
    "import json\n",
    "import os\n",
    "\n",
    "import enterprise\n",
    "import libstempo as lst\n",
    "import libstempo.plot as lstplot\n",
    "import libstempo.toasim as toasim\n",
    "import matplotlib.pyplot as plt\n",
    "import numpy as np\n",
    "from gw_waveform_res import hyp_pta_res"
   ]
  },
  {
   "cell_type": "code",
   "execution_count": 10,
   "id": "f6517ca8",
   "metadata": {},
   "outputs": [],
   "source": [
    "output_dir = \"gwhyp_sims\"\n",
    "if not os.path.exists(output_dir):\n",
    "    os.mkdir(output_dir)"
   ]
  },
  {
   "cell_type": "code",
   "execution_count": 11,
   "id": "754dd629",
   "metadata": {},
   "outputs": [
    {
     "name": "stdout",
     "output_type": "stream",
     "text": [
      "J0030+0451\n"
     ]
    },
    {
     "name": "stderr",
     "output_type": "stream",
     "text": [
      "/var/folders/9p/fjprxwnn299bw58l273k34qc0000gn/T/ipykernel_2040/3650358881.py:1: DeprecationWarning: distutils Version classes are deprecated. Use packaging.version instead.\n",
      "  psr = lst.tempopulsar(parfile=parfile, timfile=timfile)\n"
     ]
    }
   ],
   "source": [
    "psr = lst.tempopulsar(parfile=parfile, timfile=timfile)\n",
    "print(psr.name)"
   ]
  },
  {
   "cell_type": "code",
   "execution_count": 12,
   "id": "1a17ece0",
   "metadata": {},
   "outputs": [],
   "source": [
    "def save_psr_sim(psr, savedir):\n",
    "    print(\"Writing simulated data for\", psr.name)\n",
    "    psr.savepar(f\"{savedir}/{psr.name}_simulate.par\")\n",
    "    psr.savetim(f\"{savedir}/{psr.name}_simulate.tim\")\n",
    "    lst.purgetim(f\"{savedir}/{psr.name}_simulate.tim\")"
   ]
  },
  {
   "cell_type": "code",
   "execution_count": 13,
   "id": "d7fb34fe",
   "metadata": {},
   "outputs": [],
   "source": [
    "day_to_s = 24 * 3600"
   ]
  },
  {
   "cell_type": "code",
   "execution_count": 14,
   "id": "b7fa713d",
   "metadata": {},
   "outputs": [],
   "source": [
    "def add_gwecc_1psr(psr):\n",
    "    toas = (psr.toas() * day_to_s).astype(float)\n",
    "\n",
    "    signal = (\n",
    "        np.array(res\n",
    "            \n",
    "        )\n",
    "        \n",
    "    )\n",
    "\n",
    "    psr.stoas[:] += signal\n",
    "\n",
    "    return signal\n"
   ]
  },
  {
   "cell_type": "code",
   "execution_count": 15,
   "id": "a6204eb4",
   "metadata": {},
   "outputs": [],
   "source": [
    "toasim.make_ideal(psr)"
   ]
  },
  {
   "cell_type": "code",
   "execution_count": 16,
   "id": "214038b9",
   "metadata": {},
   "outputs": [],
   "source": [
    "toasim.add_efac(psr, 1)"
   ]
  },
  {
   "cell_type": "code",
   "execution_count": 17,
   "id": "f4d47613",
   "metadata": {},
   "outputs": [],
   "source": [
    "signal = add_gwecc_1psr(psr)"
   ]
  },
  {
   "cell_type": "code",
   "execution_count": 18,
   "id": "87e8f4e9",
   "metadata": {},
   "outputs": [
    {
     "name": "stdout",
     "output_type": "stream",
     "text": [
      "Simulated TOAs for J0030+0451\n"
     ]
    }
   ],
   "source": [
    "print(\"Simulated TOAs for\", psr.name)"
   ]
  },
  {
   "cell_type": "code",
   "execution_count": 20,
   "id": "8fbdfcfa",
   "metadata": {},
   "outputs": [
    {
     "data": {
      "image/png": "[encoded data removed]",
      "text/plain": [
       "<Figure size 640x480 with 1 Axes>"
      ]
     },
     "metadata": {},
     "output_type": "display_data"
    },
    {
     "name": "stdout",
     "output_type": "stream",
     "text": [
      "Writing simulated data for J0030+0451\n"
     ]
    }
   ],
   "source": [
    "lstplot.plotres(psr, label=\"Residuals\")\n",
    "plt.plot(psr.toas(), signal * day_to_s * 1e6, c=\"k\", label=\"Injected signal\")\n",
    "plt.title(psr.name)\n",
    "plt.legend()\n",
    "plt.show()\n",
    "psr.fit()\n",
    "save_psr_sim(psr, output_dir)"
   ]
  },
  {
   "cell_type": "code",
   "execution_count": null,
   "id": "4d069a8f",
   "metadata": {},
   "outputs": [],
   "source": []
  }
 ],
 "metadata": {
  "kernelspec": {
   "display_name": "gwhyp",
   "language": "python",
   "name": "gwhyp"
  },
  "language_info": {
   "codemirror_mode": {
    "name": "ipython",
    "version": 3
   },
   "file_extension": ".py",
   "mimetype": "text/x-python",
   "name": "python",
   "nbconvert_exporter": "python",
   "pygments_lexer": "ipython3",
   "version": "3.10.6"
  }
 },
 "nbformat": 4,
 "nbformat_minor": 5
}
